{
 "cells": [
  {
   "cell_type": "code",
   "execution_count": 1,
   "metadata": {},
   "outputs": [],
   "source": [
    "import cv2\n",
    "import numpy as np\n",
    "import matplotlib.pyplot as plt"
   ]
  },
  {
   "cell_type": "code",
   "execution_count": 2,
   "metadata": {},
   "outputs": [],
   "source": [
    "OUTPATH = './char_black/'"
   ]
  },
  {
   "cell_type": "code",
   "execution_count": 725,
   "metadata": {},
   "outputs": [
    {
     "data": {
      "text/plain": [
       "True"
      ]
     },
     "execution_count": 725,
     "metadata": {},
     "output_type": "execute_result"
    },
    {
     "data": {
      "image/png": "[encoded data removed]",
      "text/plain": [
       "<Figure size 432x288 with 1 Axes>"
      ]
     },
     "metadata": {
      "needs_background": "light"
     },
     "output_type": "display_data"
    }
   ],
   "source": [
    "# 9\n",
    "char = '9'\n",
    "filename = char+'.png'\n",
    "img = cv2.imread(filename)\n",
    "img1 = cv2.cvtColor(img, cv2.COLOR_BGR2GRAY)\n",
    "img2 = cv2.bitwise_not(img1)\n",
    "_, img3 = cv2.threshold(img2, 200, 255, cv2.THRESH_OTSU | cv2.THRESH_BINARY)\n",
    "a, _ = cv2.findContours(img3, cv2.RETR_TREE, cv2.CHAIN_APPROX_SIMPLE)\n",
    "gen = cv2.drawContours(np.full(img.shape, 255, dtype=int), [a[0], a[3]], -1, (0,0,0), -1)\n",
    "plt.imshow(gen)\n",
    "cv2.imwrite(OUTPATH+char+'.jpg', gen)"
   ]
  },
  {
   "cell_type": "code",
   "execution_count": 156,
   "metadata": {},
   "outputs": [
    {
     "data": {
      "text/plain": [
       "True"
      ]
     },
     "execution_count": 156,
     "metadata": {},
     "output_type": "execute_result"
    },
    {
     "data": {
      "image/png": "[encoded data removed]",
      "text/plain": [
       "<Figure size 432x288 with 1 Axes>"
      ]
     },
     "metadata": {
      "needs_background": "light"
     },
     "output_type": "display_data"
    }
   ],
   "source": [
    "# 3\n",
    "char = '3'\n",
    "filename = char+'.png'\n",
    "img = cv2.imread(filename)\n",
    "img1 = cv2.cvtColor(img, cv2.COLOR_BGR2GRAY)\n",
    "img2 = cv2.bitwise_not(img1)\n",
    "a, _ = cv2.findContours(img2, cv2.RETR_EXTERNAL, cv2.CHAIN_APPROX_SIMPLE)\n",
    "gen = cv2.drawContours(img, [a[4]], -1, (0,0,0), -1)\n",
    "plt.imshow(gen)\n",
    "cv2.imwrite(OUTPATH+char+'.jpg', gen)"
   ]
  },
  {
   "cell_type": "code",
   "execution_count": 192,
   "metadata": {},
   "outputs": [
    {
     "data": {
      "text/plain": [
       "True"
      ]
     },
     "execution_count": 192,
     "metadata": {},
     "output_type": "execute_result"
    },
    {
     "data": {
      "image/png": "[encoded data removed]",
      "text/plain": [
       "<Figure size 432x288 with 1 Axes>"
      ]
     },
     "metadata": {
      "needs_background": "light"
     },
     "output_type": "display_data"
    }
   ],
   "source": [
    "# 8\n",
    "char = '8'\n",
    "filename = char+'.png'\n",
    "img = cv2.imread(filename)\n",
    "img1 = cv2.cvtColor(img, cv2.COLOR_BGR2GRAY)\n",
    "img2 = cv2.bitwise_not(img1)\n",
    "a, _ = cv2.findContours(img2, cv2.RETR_TREE, cv2.CHAIN_APPROX_SIMPLE)\n",
    "gen = cv2.drawContours(img, [a[1], a[7], a[9]], -1, (0,0,0), -1)\n",
    "plt.imshow(gen)\n",
    "cv2.imwrite(OUTPATH+char+'.jpg', gen)"
   ]
  },
  {
   "cell_type": "code",
   "execution_count": 194,
   "metadata": {},
   "outputs": [
    {
     "data": {
      "text/plain": [
       "True"
      ]
     },
     "execution_count": 194,
     "metadata": {},
     "output_type": "execute_result"
    },
    {
     "data": {
      "image/png": "[encoded data removed]",
      "text/plain": [
       "<Figure size 432x288 with 1 Axes>"
      ]
     },
     "metadata": {
      "needs_background": "light"
     },
     "output_type": "display_data"
    }
   ],
   "source": [
    "# 7\n",
    "char = '7'\n",
    "filename = char+'.png'\n",
    "img = cv2.imread(filename)\n",
    "img1 = cv2.cvtColor(img, cv2.COLOR_BGR2GRAY)\n",
    "img2 = cv2.bitwise_not(img1)\n",
    "a, _ = cv2.findContours(img2, cv2.RETR_TREE, cv2.CHAIN_APPROX_SIMPLE)\n",
    "gen = cv2.drawContours(img, [a[1]], -1, (0,0,0), -1)\n",
    "plt.imshow(gen)\n",
    "cv2.imwrite(OUTPATH+char+'.jpg', gen)"
   ]
  },
  {
   "cell_type": "code",
   "execution_count": 235,
   "metadata": {},
   "outputs": [
    {
     "data": {
      "text/plain": [
       "True"
      ]
     },
     "execution_count": 235,
     "metadata": {},
     "output_type": "execute_result"
    },
    {
     "data": {
      "image/png": "[encoded data removed]",
      "text/plain": [
       "<Figure size 432x288 with 1 Axes>"
      ]
     },
     "metadata": {
      "needs_background": "light"
     },
     "output_type": "display_data"
    }
   ],
   "source": [
    "# Q\n",
    "char = 'Q'\n",
    "filename = char+'.png'\n",
    "img = cv2.imread(filename)\n",
    "img1 = cv2.cvtColor(img, cv2.COLOR_BGR2GRAY)\n",
    "img2 = cv2.bitwise_not(img1)\n",
    "a, _ = cv2.findContours(img2, cv2.RETR_TREE, cv2.CHAIN_APPROX_SIMPLE)\n",
    "gen = cv2.drawContours(img, [a[5], a[9], a[11]], -1, (0,0,0), -1)\n",
    "plt.imshow(gen)\n",
    "cv2.imwrite(OUTPATH+char+'.jpg', gen)"
   ]
  },
  {
   "cell_type": "code",
   "execution_count": 247,
   "metadata": {},
   "outputs": [
    {
     "data": {
      "text/plain": [
       "True"
      ]
     },
     "execution_count": 247,
     "metadata": {},
     "output_type": "execute_result"
    },
    {
     "data": {
      "image/png": "[encoded data removed]",
      "text/plain": [
       "<Figure size 432x288 with 1 Axes>"
      ]
     },
     "metadata": {
      "needs_background": "light"
     },
     "output_type": "display_data"
    }
   ],
   "source": [
    "# B\n",
    "char = 'B'\n",
    "filename = char+'.png'\n",
    "img = cv2.imread(filename)\n",
    "img1 = cv2.cvtColor(img, cv2.COLOR_BGR2GRAY)\n",
    "img2 = cv2.bitwise_not(img1)\n",
    "a, _ = cv2.findContours(img2, cv2.RETR_TREE, cv2.CHAIN_APPROX_SIMPLE)\n",
    "gen = cv2.drawContours(img, [a[8], a[15], a[22]], -1, (0,0,0), -1)\n",
    "plt.imshow(gen)\n",
    "cv2.imwrite(OUTPATH+char+'.jpg', gen)"
   ]
  },
  {
   "cell_type": "code",
   "execution_count": 287,
   "metadata": {},
   "outputs": [
    {
     "data": {
      "text/plain": [
       "True"
      ]
     },
     "execution_count": 287,
     "metadata": {},
     "output_type": "execute_result"
    },
    {
     "data": {
      "image/png": "[encoded data removed]",
      "text/plain": [
       "<Figure size 432x288 with 1 Axes>"
      ]
     },
     "metadata": {
      "needs_background": "light"
     },
     "output_type": "display_data"
    }
   ],
   "source": [
    "# A\n",
    "char = 'A'\n",
    "filename = char+'.png'\n",
    "img = cv2.imread(filename)\n",
    "img1 = cv2.cvtColor(img, cv2.COLOR_BGR2GRAY)\n",
    "img2 = cv2.bitwise_not(img1)\n",
    "a, _ = cv2.findContours(img2, cv2.RETR_TREE, cv2.CHAIN_APPROX_SIMPLE)\n",
    "gen = cv2.drawContours(img, [a[1], a[4]], -1, (0,0,0), -1)\n",
    "plt.imshow(gen)\n",
    "cv2.imwrite(OUTPATH+char+'.jpg', gen)"
   ]
  },
  {
   "cell_type": "code",
   "execution_count": 333,
   "metadata": {},
   "outputs": [
    {
     "data": {
      "text/plain": [
       "True"
      ]
     },
     "execution_count": 333,
     "metadata": {},
     "output_type": "execute_result"
    },
    {
     "data": {
      "image/png": "[encoded data removed]",
      "text/plain": [
       "<Figure size 432x288 with 1 Axes>"
      ]
     },
     "metadata": {
      "needs_background": "light"
     },
     "output_type": "display_data"
    }
   ],
   "source": [
    "# 6\n",
    "char = '6'\n",
    "filename = char+'.png'\n",
    "img = cv2.imread(filename)\n",
    "img1 = cv2.cvtColor(img, cv2.COLOR_BGR2GRAY)\n",
    "img2 = cv2.bitwise_not(img1)\n",
    "a, _ = cv2.findContours(img2, cv2.RETR_TREE, cv2.CHAIN_APPROX_SIMPLE)\n",
    "gen = cv2.drawContours(img, [a[2], a[8]], -1, (0,0,0), -1)\n",
    "plt.imshow(gen)\n",
    "cv2.imwrite(OUTPATH+char+'.jpg', gen)"
   ]
  },
  {
   "cell_type": "code",
   "execution_count": 170,
   "metadata": {},
   "outputs": [
    {
     "data": {
      "text/plain": [
       "True"
      ]
     },
     "execution_count": 170,
     "metadata": {},
     "output_type": "execute_result"
    },
    {
     "data": {
      "image/png": "[encoded data removed]",
      "text/plain": [
       "<Figure size 432x288 with 1 Axes>"
      ]
     },
     "metadata": {
      "needs_background": "light"
     },
     "output_type": "display_data"
    }
   ],
   "source": [
    "# 0\n",
    "char = '0'\n",
    "filename = char+'.png'\n",
    "img = cv2.imread(filename)\n",
    "img1 = cv2.cvtColor(img, cv2.COLOR_BGR2GRAY)\n",
    "img2 = cv2.bitwise_not(img1)\n",
    "a, _ = cv2.findContours(img2, cv2.RETR_TREE, cv2.CHAIN_APPROX_SIMPLE)\n",
    "gen = cv2.drawContours(img, a, -1, (0,0,0), -1)\n",
    "plt.imshow(gen)\n",
    "cv2.imwrite(OUTPATH+char+'.jpg', gen)"
   ]
  },
  {
   "cell_type": "code",
   "execution_count": 1006,
   "metadata": {},
   "outputs": [
    {
     "data": {
      "text/plain": [
       "True"
      ]
     },
     "execution_count": 1006,
     "metadata": {},
     "output_type": "execute_result"
    },
    {
     "data": {
      "image/png": "[encoded data removed]",
      "text/plain": [
       "<Figure size 432x288 with 1 Axes>"
      ]
     },
     "metadata": {
      "needs_background": "light"
     },
     "output_type": "display_data"
    }
   ],
   "source": [
    "# -\n",
    "char = '-'\n",
    "filename = char+'.png'\n",
    "img = cv2.imread(filename)\n",
    "img1 = cv2.cvtColor(img, cv2.COLOR_BGR2GRAY)\n",
    "img2 = cv2.bitwise_not(img1)\n",
    "a, _ = cv2.findContours(img2, cv2.RETR_TREE, cv2.CHAIN_APPROX_SIMPLE)\n",
    "gen = cv2.drawContours(img, a, -1, (0,0,0), -1)\n",
    "plt.imshow(gen)\n",
    "cv2.imwrite(OUTPATH+char+'.jpg', gen)"
   ]
  },
  {
   "cell_type": "code",
   "execution_count": 296,
   "metadata": {},
   "outputs": [
    {
     "data": {
      "text/plain": [
       "True"
      ]
     },
     "execution_count": 296,
     "metadata": {},
     "output_type": "execute_result"
    },
    {
     "data": {
      "image/png": "[encoded data removed]",
      "text/plain": [
       "<Figure size 432x288 with 1 Axes>"
      ]
     },
     "metadata": {
      "needs_background": "light"
     },
     "output_type": "display_data"
    }
   ],
   "source": [
    "# G\n",
    "char = 'G'\n",
    "filename = char+'.png'\n",
    "img = cv2.imread(filename)\n",
    "img1 = cv2.cvtColor(img, cv2.COLOR_BGR2GRAY)\n",
    "img2 = cv2.bitwise_not(img1)\n",
    "a, _ = cv2.findContours(img2, cv2.RETR_EXTERNAL, cv2.CHAIN_APPROX_SIMPLE)\n",
    "gen = cv2.drawContours(img, [a[1]], -1, (0,0,0), -1)\n",
    "plt.imshow(gen)\n",
    "cv2.imwrite(OUTPATH+char+'.jpg', gen)"
   ]
  },
  {
   "cell_type": "code",
   "execution_count": 102,
   "metadata": {},
   "outputs": [
    {
     "data": {
      "text/plain": [
       "True"
      ]
     },
     "execution_count": 102,
     "metadata": {},
     "output_type": "execute_result"
    },
    {
     "data": {
      "image/png": "[encoded data removed]",
      "text/plain": [
       "<Figure size 432x288 with 1 Axes>"
      ]
     },
     "metadata": {
      "needs_background": "light"
     },
     "output_type": "display_data"
    }
   ],
   "source": [
    "# T\n",
    "char = 'T'\n",
    "filename = char+'.png'\n",
    "img = cv2.imread(filename)\n",
    "img1 = cv2.cvtColor(img, cv2.COLOR_BGR2GRAY)\n",
    "img2 = cv2.bitwise_not(img1)\n",
    "a, _ = cv2.findContours(img2, cv2.RETR_EXTERNAL, cv2.CHAIN_APPROX_SIMPLE)\n",
    "gen = cv2.drawContours(img, a, -1, (0,0,0), -1)\n",
    "plt.imshow(gen)\n",
    "cv2.imwrite(OUTPATH+char+'.jpg', gen)"
   ]
  },
  {
   "cell_type": "code",
   "execution_count": 125,
   "metadata": {},
   "outputs": [
    {
     "data": {
      "text/plain": [
       "True"
      ]
     },
     "execution_count": 125,
     "metadata": {},
     "output_type": "execute_result"
    },
    {
     "data": {
      "image/png": "[encoded data removed]",
      "text/plain": [
       "<Figure size 432x288 with 1 Axes>"
      ]
     },
     "metadata": {
      "needs_background": "light"
     },
     "output_type": "display_data"
    }
   ],
   "source": [
    "# 1\n",
    "char = '1'\n",
    "filename = char+'.png'\n",
    "img = cv2.imread(filename)\n",
    "img1 = cv2.cvtColor(img, cv2.COLOR_BGR2GRAY)\n",
    "img2 = cv2.bitwise_not(img1)\n",
    "a, _ = cv2.findContours(img2, cv2.RETR_EXTERNAL, cv2.CHAIN_APPROX_SIMPLE)\n",
    "gen = cv2.drawContours(img, a, -1, (0,0,0), -1)\n",
    "plt.imshow(gen)\n",
    "cv2.imwrite(OUTPATH+char+'.jpg', gen)"
   ]
  },
  {
   "cell_type": "code",
   "execution_count": 10,
   "metadata": {},
   "outputs": [
    {
     "data": {
      "text/plain": [
       "True"
      ]
     },
     "execution_count": 10,
     "metadata": {},
     "output_type": "execute_result"
    },
    {
     "data": {
      "image/png": "[encoded data removed]",
      "text/plain": [
       "<Figure size 432x288 with 1 Axes>"
      ]
     },
     "metadata": {
      "needs_background": "light"
     },
     "output_type": "display_data"
    }
   ],
   "source": [
    "# 2\n",
    "char = '2'\n",
    "filename = char+'.png'\n",
    "img = cv2.imread(filename)\n",
    "img1 = cv2.cvtColor(img, cv2.COLOR_BGR2GRAY)\n",
    "img2 = cv2.bitwise_not(img1)\n",
    "a, _ = cv2.findContours(img2, cv2.RETR_EXTERNAL, cv2.CHAIN_APPROX_SIMPLE)\n",
    "gen = cv2.drawContours(img, a, -1, (0,0,0), -1)\n",
    "plt.imshow(gen)\n",
    "cv2.imwrite(OUTPATH+char+'.jpg', gen)"
   ]
  },
  {
   "cell_type": "code",
   "execution_count": 132,
   "metadata": {},
   "outputs": [
    {
     "data": {
      "text/plain": [
       "True"
      ]
     },
     "execution_count": 132,
     "metadata": {},
     "output_type": "execute_result"
    },
    {
     "data": {
      "image/png": "[encoded data removed]",
      "text/plain": [
       "<Figure size 432x288 with 1 Axes>"
      ]
     },
     "metadata": {
      "needs_background": "light"
     },
     "output_type": "display_data"
    }
   ],
   "source": [
    "# 5\n",
    "char = '5'\n",
    "filename = char+'.png'\n",
    "img = cv2.imread(filename)\n",
    "img1 = cv2.cvtColor(img, cv2.COLOR_BGR2GRAY)\n",
    "img2 = cv2.bitwise_not(img1)\n",
    "a, _ = cv2.findContours(img2, cv2.RETR_EXTERNAL, cv2.CHAIN_APPROX_SIMPLE)\n",
    "gen = cv2.drawContours(img, a, -1, (0,0,0), -1)\n",
    "plt.imshow(gen)\n",
    "cv2.imwrite(OUTPATH+char+'.jpg', gen)"
   ]
  },
  {
   "cell_type": "code",
   "execution_count": 124,
   "metadata": {},
   "outputs": [
    {
     "data": {
      "text/plain": [
       "True"
      ]
     },
     "execution_count": 124,
     "metadata": {},
     "output_type": "execute_result"
    },
    {
     "data": {
      "image/png": "[encoded data removed]",
      "text/plain": [
       "<Figure size 432x288 with 1 Axes>"
      ]
     },
     "metadata": {
      "needs_background": "light"
     },
     "output_type": "display_data"
    }
   ],
   "source": [
    "# C\n",
    "char = 'C'\n",
    "filename = char+'.png'\n",
    "img = cv2.imread(filename)\n",
    "img1 = cv2.cvtColor(img, cv2.COLOR_BGR2GRAY)\n",
    "img2 = cv2.bitwise_not(img1)\n",
    "a, _ = cv2.findContours(img2, cv2.RETR_EXTERNAL, cv2.CHAIN_APPROX_SIMPLE)\n",
    "gen = cv2.drawContours(img, [a[6]], -1, (0,0,0), -1)\n",
    "plt.imshow(gen)\n",
    "cv2.imwrite(OUTPATH+char+'.jpg', gen)"
   ]
  },
  {
   "cell_type": "code",
   "execution_count": 148,
   "metadata": {},
   "outputs": [
    {
     "data": {
      "text/plain": [
       "True"
      ]
     },
     "execution_count": 148,
     "metadata": {},
     "output_type": "execute_result"
    },
    {
     "data": {
      "image/png": "[encoded data removed]",
      "text/plain": [
       "<Figure size 432x288 with 1 Axes>"
      ]
     },
     "metadata": {
      "needs_background": "light"
     },
     "output_type": "display_data"
    }
   ],
   "source": [
    "# D\n",
    "char = 'D'\n",
    "filename = char+'.png'\n",
    "img = cv2.imread(filename)\n",
    "img1 = cv2.cvtColor(img, cv2.COLOR_BGR2GRAY)\n",
    "img2 = cv2.bitwise_not(img1)\n",
    "a, _ = cv2.findContours(img2, cv2.RETR_TREE, cv2.CHAIN_APPROX_SIMPLE)\n",
    "gen = cv2.drawContours(img, [a[0], a[4]], -1, (0,0,0), -1)\n",
    "plt.imshow(gen)\n",
    "cv2.imwrite(OUTPATH+char+'.jpg', gen)"
   ]
  },
  {
   "cell_type": "code",
   "execution_count": 50,
   "metadata": {},
   "outputs": [
    {
     "data": {
      "text/plain": [
       "True"
      ]
     },
     "execution_count": 50,
     "metadata": {},
     "output_type": "execute_result"
    },
    {
     "data": {
      "image/png": "[encoded data removed]",
      "text/plain": [
       "<Figure size 432x288 with 1 Axes>"
      ]
     },
     "metadata": {
      "needs_background": "light"
     },
     "output_type": "display_data"
    }
   ],
   "source": [
    "# R\n",
    "char = 'R'\n",
    "filename = char+'.png'\n",
    "img = cv2.imread(filename)\n",
    "img1 = cv2.cvtColor(img, cv2.COLOR_BGR2GRAY)\n",
    "img2 = cv2.bitwise_not(img1)\n",
    "a, _ = cv2.findContours(img2, cv2.RETR_TREE, cv2.CHAIN_APPROX_SIMPLE)\n",
    "gen = cv2.drawContours(img, [a[0], a[4]], -1, (0,0,0), -1)\n",
    "plt.imshow(gen)\n",
    "cv2.imwrite(OUTPATH+char+'.jpg', gen)"
   ]
  },
  {
   "cell_type": "code",
   "execution_count": 54,
   "metadata": {},
   "outputs": [
    {
     "data": {
      "text/plain": [
       "True"
      ]
     },
     "execution_count": 54,
     "metadata": {},
     "output_type": "execute_result"
    },
    {
     "data": {
      "image/png": "[encoded data removed]",
      "text/plain": [
       "<Figure size 432x288 with 1 Axes>"
      ]
     },
     "metadata": {
      "needs_background": "light"
     },
     "output_type": "display_data"
    }
   ],
   "source": [
    "# E\n",
    "char = 'E'\n",
    "filename = char+'.png'\n",
    "img = cv2.imread(filename)\n",
    "img1 = cv2.cvtColor(img, cv2.COLOR_BGR2GRAY)\n",
    "img2 = cv2.bitwise_not(img1)\n",
    "a, _ = cv2.findContours(img2, cv2.RETR_EXTERNAL, cv2.CHAIN_APPROX_SIMPLE)\n",
    "gen = cv2.drawContours(img, [a[2]], -1, (0,0,0), -1)\n",
    "plt.imshow(gen)\n",
    "cv2.imwrite(OUTPATH+char+'.jpg', gen)"
   ]
  },
  {
   "cell_type": "code",
   "execution_count": 87,
   "metadata": {},
   "outputs": [
    {
     "data": {
      "text/plain": [
       "True"
      ]
     },
     "execution_count": 87,
     "metadata": {},
     "output_type": "execute_result"
    },
    {
     "data": {
      "image/png": "[encoded data removed]",
      "text/plain": [
       "<Figure size 432x288 with 1 Axes>"
      ]
     },
     "metadata": {
      "needs_background": "light"
     },
     "output_type": "display_data"
    }
   ],
   "source": [
    "# S\n",
    "char = 'S'\n",
    "filename = char+'.png'\n",
    "img = cv2.imread(filename)\n",
    "img1 = cv2.cvtColor(img, cv2.COLOR_BGR2GRAY)\n",
    "img2 = cv2.bitwise_not(img1)\n",
    "a, _ = cv2.findContours(img2, cv2.RETR_EXTERNAL, cv2.CHAIN_APPROX_SIMPLE)\n",
    "gen = cv2.drawContours(img, [a[5]], -1, (0,0,0), -1)\n",
    "plt.imshow(gen)\n",
    "cv2.imwrite(OUTPATH+char+'.jpg', gen)"
   ]
  },
  {
   "cell_type": "code",
   "execution_count": 12,
   "metadata": {},
   "outputs": [
    {
     "data": {
      "text/plain": [
       "True"
      ]
     },
     "execution_count": 12,
     "metadata": {},
     "output_type": "execute_result"
    },
    {
     "data": {
      "image/png": "[encoded data removed]",
      "text/plain": [
       "<Figure size 432x288 with 1 Axes>"
      ]
     },
     "metadata": {
      "needs_background": "light"
     },
     "output_type": "display_data"
    }
   ],
   "source": [
    "# Z\n",
    "char = 'Z'\n",
    "filename = char+'.png'\n",
    "img = cv2.imread(filename)\n",
    "img1 = cv2.cvtColor(img, cv2.COLOR_BGR2GRAY)\n",
    "img2 = cv2.bitwise_not(img1)\n",
    "a, _ = cv2.findContours(img2, cv2.RETR_EXTERNAL, cv2.CHAIN_APPROX_SIMPLE)\n",
    "gen = cv2.drawContours(img, [a[1]], -1, (0,0,0), -1)\n",
    "plt.imshow(gen)\n",
    "cv2.imwrite(OUTPATH+char+'.jpg', gen)"
   ]
  },
  {
   "cell_type": "code",
   "execution_count": 30,
   "metadata": {},
   "outputs": [
    {
     "data": {
      "text/plain": [
       "True"
      ]
     },
     "execution_count": 30,
     "metadata": {},
     "output_type": "execute_result"
    },
    {
     "data": {
      "image/png": "[encoded data removed]",
      "text/plain": [
       "<Figure size 432x288 with 1 Axes>"
      ]
     },
     "metadata": {
      "needs_background": "light"
     },
     "output_type": "display_data"
    }
   ],
   "source": [
    "# W\n",
    "char = 'W'\n",
    "filename = char+'.png'\n",
    "img = cv2.imread(filename)\n",
    "img1 = cv2.cvtColor(img, cv2.COLOR_BGR2GRAY)\n",
    "img2 = cv2.bitwise_not(img1)\n",
    "a, _ = cv2.findContours(img2, cv2.RETR_EXTERNAL, cv2.CHAIN_APPROX_SIMPLE)\n",
    "gen = cv2.drawContours(img, [a[2]], -1, (0,0,0), -1)\n",
    "plt.imshow(gen)\n",
    "cv2.imwrite(OUTPATH+char+'.jpg', gen)"
   ]
  },
  {
   "cell_type": "code",
   "execution_count": 39,
   "metadata": {},
   "outputs": [
    {
     "data": {
      "text/plain": [
       "True"
      ]
     },
     "execution_count": 39,
     "metadata": {},
     "output_type": "execute_result"
    },
    {
     "data": {
      "image/png": "[encoded data removed]",
      "text/plain": [
       "<Figure size 432x288 with 1 Axes>"
      ]
     },
     "metadata": {
      "needs_background": "light"
     },
     "output_type": "display_data"
    }
   ],
   "source": [
    "# Y\n",
    "char = 'Y'\n",
    "filename = char+'.png'\n",
    "img = cv2.imread(filename)\n",
    "img1 = cv2.cvtColor(img, cv2.COLOR_BGR2GRAY)\n",
    "img2 = cv2.bitwise_not(img1)\n",
    "a, _ = cv2.findContours(img2, cv2.RETR_EXTERNAL, cv2.CHAIN_APPROX_SIMPLE)\n",
    "gen = cv2.drawContours(img, [a[1]], -1, (0,0,0), -1)\n",
    "plt.imshow(gen)\n",
    "cv2.imwrite(OUTPATH+char+'.jpg', gen)"
   ]
  },
  {
   "cell_type": "code",
   "execution_count": 46,
   "metadata": {},
   "outputs": [
    {
     "data": {
      "text/plain": [
       "True"
      ]
     },
     "execution_count": 46,
     "metadata": {},
     "output_type": "execute_result"
    },
    {
     "data": {
      "image/png": "[encoded data removed]",
      "text/plain": [
       "<Figure size 432x288 with 1 Axes>"
      ]
     },
     "metadata": {
      "needs_background": "light"
     },
     "output_type": "display_data"
    }
   ],
   "source": [
    "# N\n",
    "char = 'N'\n",
    "filename = char+'.png'\n",
    "img = cv2.imread(filename)\n",
    "img1 = cv2.cvtColor(img, cv2.COLOR_BGR2GRAY)\n",
    "img2 = cv2.bitwise_not(img1)\n",
    "a, _ = cv2.findContours(img2, cv2.RETR_EXTERNAL, cv2.CHAIN_APPROX_SIMPLE)\n",
    "gen = cv2.drawContours(img, [a[1]], -1, (0,0,0), -1)\n",
    "plt.imshow(gen)\n",
    "cv2.imwrite(OUTPATH+char+'.jpg', gen)"
   ]
  },
  {
   "cell_type": "code",
   "execution_count": 55,
   "metadata": {},
   "outputs": [
    {
     "data": {
      "text/plain": [
       "True"
      ]
     },
     "execution_count": 55,
     "metadata": {},
     "output_type": "execute_result"
    },
    {
     "data": {
      "image/png": "[encoded data removed]",
      "text/plain": [
       "<Figure size 432x288 with 1 Axes>"
      ]
     },
     "metadata": {
      "needs_background": "light"
     },
     "output_type": "display_data"
    }
   ],
   "source": [
    "# F\n",
    "char = 'F'\n",
    "filename = char+'.png'\n",
    "img = cv2.imread(filename)\n",
    "img1 = cv2.cvtColor(img, cv2.COLOR_BGR2GRAY)\n",
    "img2 = cv2.bitwise_not(img1)\n",
    "a, _ = cv2.findContours(img2, cv2.RETR_EXTERNAL, cv2.CHAIN_APPROX_SIMPLE)\n",
    "gen = cv2.drawContours(img, [a[1]], -1, (0,0,0), -1)\n",
    "plt.imshow(gen)\n",
    "cv2.imwrite(OUTPATH+char+'.jpg', gen)"
   ]
  },
  {
   "cell_type": "code",
   "execution_count": 63,
   "metadata": {},
   "outputs": [
    {
     "data": {
      "text/plain": [
       "True"
      ]
     },
     "execution_count": 63,
     "metadata": {},
     "output_type": "execute_result"
    },
    {
     "data": {
      "image/png": "[encoded data removed]",
      "text/plain": [
       "<Figure size 432x288 with 1 Axes>"
      ]
     },
     "metadata": {
      "needs_background": "light"
     },
     "output_type": "display_data"
    }
   ],
   "source": [
    "# M\n",
    "char = 'M'\n",
    "filename = char+'.png'\n",
    "img = cv2.imread(filename)\n",
    "img1 = cv2.cvtColor(img, cv2.COLOR_BGR2GRAY)\n",
    "img2 = cv2.bitwise_not(img1)\n",
    "a, _ = cv2.findContours(img2, cv2.RETR_EXTERNAL, cv2.CHAIN_APPROX_SIMPLE)\n",
    "gen = cv2.drawContours(img, [a[1]], -1, (0,0,0), -1)\n",
    "plt.imshow(gen)\n",
    "cv2.imwrite(OUTPATH+char+'.jpg', gen)"
   ]
  },
  {
   "cell_type": "code",
   "execution_count": 85,
   "metadata": {},
   "outputs": [
    {
     "data": {
      "text/plain": [
       "True"
      ]
     },
     "execution_count": 85,
     "metadata": {},
     "output_type": "execute_result"
    },
    {
     "data": {
      "image/png": "[encoded data removed]",
      "text/plain": [
       "<Figure size 432x288 with 1 Axes>"
      ]
     },
     "metadata": {
      "needs_background": "light"
     },
     "output_type": "display_data"
    }
   ],
   "source": [
    "# K\n",
    "char = 'K'\n",
    "filename = char+'.png'\n",
    "img = cv2.imread(filename)\n",
    "img1 = cv2.cvtColor(img, cv2.COLOR_BGR2GRAY)\n",
    "img2 = cv2.bitwise_not(img1)\n",
    "a, _ = cv2.findContours(img2, cv2.RETR_EXTERNAL, cv2.CHAIN_APPROX_SIMPLE)\n",
    "gen = cv2.drawContours(img, [a[6]], -1, (0,0,0), -1)\n",
    "plt.imshow(gen)\n",
    "cv2.imwrite(OUTPATH+char+'.jpg', gen)"
   ]
  },
  {
   "cell_type": "code",
   "execution_count": 93,
   "metadata": {},
   "outputs": [
    {
     "data": {
      "text/plain": [
       "True"
      ]
     },
     "execution_count": 93,
     "metadata": {},
     "output_type": "execute_result"
    },
    {
     "data": {
      "image/png": "[encoded data removed]",
      "text/plain": [
       "<Figure size 432x288 with 1 Axes>"
      ]
     },
     "metadata": {
      "needs_background": "light"
     },
     "output_type": "display_data"
    }
   ],
   "source": [
    "# L\n",
    "char = 'L'\n",
    "filename = char+'.png'\n",
    "img = cv2.imread(filename)\n",
    "img1 = cv2.cvtColor(img, cv2.COLOR_BGR2GRAY)\n",
    "img2 = cv2.bitwise_not(img1)\n",
    "a, _ = cv2.findContours(img2, cv2.RETR_EXTERNAL, cv2.CHAIN_APPROX_SIMPLE)\n",
    "gen = cv2.drawContours(img, a, -1, (0,0,0), -1)\n",
    "plt.imshow(gen)\n",
    "cv2.imwrite(OUTPATH+char+'.jpg', gen)"
   ]
  },
  {
   "cell_type": "code",
   "execution_count": 100,
   "metadata": {},
   "outputs": [
    {
     "data": {
      "text/plain": [
       "True"
      ]
     },
     "execution_count": 100,
     "metadata": {},
     "output_type": "execute_result"
    },
    {
     "data": {
      "image/png": "[encoded data removed]",
      "text/plain": [
       "<Figure size 432x288 with 1 Axes>"
      ]
     },
     "metadata": {
      "needs_background": "light"
     },
     "output_type": "display_data"
    }
   ],
   "source": [
    "# H\n",
    "char = 'H'\n",
    "filename = char+'.png'\n",
    "img = cv2.imread(filename)\n",
    "img1 = cv2.cvtColor(img, cv2.COLOR_BGR2GRAY)\n",
    "img2 = cv2.bitwise_not(img1)\n",
    "a, _ = cv2.findContours(img2, cv2.RETR_EXTERNAL, cv2.CHAIN_APPROX_SIMPLE)\n",
    "gen = cv2.drawContours(img, a, -1, (0,0,0), -1)\n",
    "plt.imshow(gen)\n",
    "cv2.imwrite(OUTPATH+char+'.jpg', gen)"
   ]
  },
  {
   "cell_type": "code",
   "execution_count": 13,
   "metadata": {},
   "outputs": [
    {
     "data": {
      "text/plain": [
       "True"
      ]
     },
     "execution_count": 13,
     "metadata": {},
     "output_type": "execute_result"
    },
    {
     "data": {
      "image/png": "[encoded data removed]",
      "text/plain": [
       "<Figure size 432x288 with 1 Axes>"
      ]
     },
     "metadata": {
      "needs_background": "light"
     },
     "output_type": "display_data"
    }
   ],
   "source": [
    "# V\n",
    "char = 'V'\n",
    "filename = char+'.png'\n",
    "img = cv2.imread(filename)\n",
    "img1 = cv2.cvtColor(img, cv2.COLOR_BGR2GRAY)\n",
    "img2 = cv2.bitwise_not(img1)\n",
    "a, _ = cv2.findContours(img2, cv2.RETR_EXTERNAL, cv2.CHAIN_APPROX_SIMPLE)\n",
    "gen = cv2.drawContours(img, [a[1]], -1, (0,0,0), -1)\n",
    "plt.imshow(gen)\n",
    "cv2.imwrite(OUTPATH+char+'.jpg', gen)"
   ]
  },
  {
   "cell_type": "code",
   "execution_count": 27,
   "metadata": {},
   "outputs": [
    {
     "data": {
      "text/plain": [
       "True"
      ]
     },
     "execution_count": 27,
     "metadata": {},
     "output_type": "execute_result"
    },
    {
     "data": {
      "image/png": "[encoded data removed]",
      "text/plain": [
       "<Figure size 432x288 with 1 Axes>"
      ]
     },
     "metadata": {
      "needs_background": "light"
     },
     "output_type": "display_data"
    }
   ],
   "source": [
    "# X\n",
    "char = 'X'\n",
    "filename = char+'.png'\n",
    "img = cv2.imread(filename)\n",
    "img1 = cv2.cvtColor(img, cv2.COLOR_BGR2GRAY)\n",
    "img2 = cv2.bitwise_not(img1)\n",
    "a, _ = cv2.findContours(img2, cv2.RETR_EXTERNAL, cv2.CHAIN_APPROX_SIMPLE)\n",
    "gen = cv2.drawContours(img, [a[4]], -1, (0,0,0), -1)\n",
    "plt.imshow(gen)\n",
    "cv2.imwrite(OUTPATH+char+'.jpg', gen)"
   ]
  },
  {
   "cell_type": "code",
   "execution_count": 35,
   "metadata": {},
   "outputs": [
    {
     "data": {
      "text/plain": [
       "True"
      ]
     },
     "execution_count": 35,
     "metadata": {},
     "output_type": "execute_result"
    },
    {
     "data": {
      "image/png": "[encoded data removed]",
      "text/plain": [
       "<Figure size 432x288 with 1 Axes>"
      ]
     },
     "metadata": {
      "needs_background": "light"
     },
     "output_type": "display_data"
    }
   ],
   "source": [
    "# J\n",
    "char = 'J'\n",
    "filename = char+'.png'\n",
    "img = cv2.imread(filename)\n",
    "img1 = cv2.cvtColor(img, cv2.COLOR_BGR2GRAY)\n",
    "img2 = cv2.bitwise_not(img1)\n",
    "a, _ = cv2.findContours(img2, cv2.RETR_EXTERNAL, cv2.CHAIN_APPROX_SIMPLE)\n",
    "gen = cv2.drawContours(img, [a[1]], -1, (0,0,0), -1)\n",
    "plt.imshow(gen)\n",
    "cv2.imwrite(OUTPATH+char+'.jpg', gen)"
   ]
  },
  {
   "cell_type": "code",
   "execution_count": 76,
   "metadata": {},
   "outputs": [
    {
     "data": {
      "text/plain": [
       "True"
      ]
     },
     "execution_count": 76,
     "metadata": {},
     "output_type": "execute_result"
    },
    {
     "data": {
      "image/png": "[encoded data removed]",
      "text/plain": [
       "<Figure size 432x288 with 1 Axes>"
      ]
     },
     "metadata": {
      "needs_background": "light"
     },
     "output_type": "display_data"
    }
   ],
   "source": [
    "# P\n",
    "char = 'P'\n",
    "filename = char+'.png'\n",
    "img = cv2.imread(filename)\n",
    "img1 = cv2.cvtColor(img, cv2.COLOR_BGR2GRAY)\n",
    "img2 = cv2.bitwise_not(img1)\n",
    "a, _ = cv2.findContours(img2, cv2.RETR_TREE, cv2.CHAIN_APPROX_SIMPLE)\n",
    "gen = cv2.drawContours(img, [a[0], a[3]], -1, (0,0,0), -1)\n",
    "plt.imshow(gen)\n",
    "cv2.imwrite(OUTPATH+char+'.jpg', gen)"
   ]
  },
  {
   "cell_type": "code",
   "execution_count": 96,
   "metadata": {},
   "outputs": [
    {
     "data": {
      "text/plain": [
       "True"
      ]
     },
     "execution_count": 96,
     "metadata": {},
     "output_type": "execute_result"
    },
    {
     "data": {
      "image/png": "[encoded data removed]",
      "text/plain": [
       "<Figure size 432x288 with 1 Axes>"
      ]
     },
     "metadata": {
      "needs_background": "light"
     },
     "output_type": "display_data"
    }
   ],
   "source": [
    "# U\n",
    "char = 'U'\n",
    "filename = char+'.png'\n",
    "img = cv2.imread(filename)\n",
    "img1 = cv2.cvtColor(img, cv2.COLOR_BGR2GRAY)\n",
    "img2 = cv2.bitwise_not(img1)\n",
    "a, _ = cv2.findContours(img2, cv2.RETR_TREE, cv2.CHAIN_APPROX_SIMPLE)\n",
    "gen = cv2.drawContours(img, [a[3]], -1, (0,0,0), -1)\n",
    "plt.imshow(gen)\n",
    "cv2.imwrite(OUTPATH+char+'.jpg', gen)"
   ]
  },
  {
   "cell_type": "code",
   "execution_count": null,
   "metadata": {},
   "outputs": [],
   "source": []
  },
  {
   "cell_type": "code",
   "execution_count": 324,
   "metadata": {},
   "outputs": [
    {
     "data": {
      "text/plain": [
       "<matplotlib.image.AxesImage at 0x25c9deaddd8>"
      ]
     },
     "execution_count": 324,
     "metadata": {},
     "output_type": "execute_result"
    },
    {
     "data": {
      "image/png": "[encoded data removed]",
      "text/plain": [
       "<Figure size 432x288 with 1 Axes>"
      ]
     },
     "metadata": {
      "needs_background": "light"
     },
     "output_type": "display_data"
    }
   ],
   "source": [
    "char = '6'\n",
    "filename = char+'.png'\n",
    "img = cv2.imread(filename)\n",
    "plt.imshow(img)"
   ]
  },
  {
   "cell_type": "code",
   "execution_count": 325,
   "metadata": {},
   "outputs": [
    {
     "data": {
      "text/plain": [
       "<matplotlib.image.AxesImage at 0x25c9df03ef0>"
      ]
     },
     "execution_count": 325,
     "metadata": {},
     "output_type": "execute_result"
    },
    {
     "data": {
      "image/png": "[encoded data removed]",
      "text/plain": [
       "<Figure size 432x288 with 1 Axes>"
      ]
     },
     "metadata": {
      "needs_background": "light"
     },
     "output_type": "display_data"
    }
   ],
   "source": [
    "img1 = cv2.cvtColor(img, cv2.COLOR_BGR2GRAY)\n",
    "plt.imshow(img1, cmap='gray')"
   ]
  },
  {
   "cell_type": "code",
   "execution_count": 326,
   "metadata": {},
   "outputs": [
    {
     "data": {
      "text/plain": [
       "<matplotlib.image.AxesImage at 0x25c9df64080>"
      ]
     },
     "execution_count": 326,
     "metadata": {},
     "output_type": "execute_result"
    },
    {
     "data": {
      "image/png": "[encoded data removed]",
      "text/plain": [
       "<Figure size 432x288 with 1 Axes>"
      ]
     },
     "metadata": {
      "needs_background": "light"
     },
     "output_type": "display_data"
    }
   ],
   "source": [
    "img2 = cv2.bitwise_not(img1)\n",
    "plt.imshow(img2, cmap='gray')"
   ]
  },
  {
   "cell_type": "code",
   "execution_count": 327,
   "metadata": {},
   "outputs": [
    {
     "name": "stdout",
     "output_type": "stream",
     "text": [
      "108.0\n"
     ]
    },
    {
     "data": {
      "text/plain": [
       "<matplotlib.image.AxesImage at 0x25c9dfb5390>"
      ]
     },
     "execution_count": 327,
     "metadata": {},
     "output_type": "execute_result"
    },
    {
     "data": {
      "image/png": "[encoded data removed]",
      "text/plain": [
       "<Figure size 432x288 with 1 Axes>"
      ]
     },
     "metadata": {
      "needs_background": "light"
     },
     "output_type": "display_data"
    }
   ],
   "source": [
    "t, img3 = cv2.threshold(img2, 200, 255, cv2.THRESH_OTSU | cv2.THRESH_BINARY)\n",
    "#t, img3 = cv2.threshold(img2, 200, 255, cv2.THRESH_BINARY)\n",
    "print(t)\n",
    "plt.imshow(img3, cmap='gray')"
   ]
  },
  {
   "cell_type": "code",
   "execution_count": 328,
   "metadata": {},
   "outputs": [
    {
     "data": {
      "text/plain": [
       "12"
      ]
     },
     "execution_count": 328,
     "metadata": {},
     "output_type": "execute_result"
    }
   ],
   "source": [
    "a,_ = cv2.findContours(img2, cv2.RETR_TREE, cv2.CHAIN_APPROX_SIMPLE)\n",
    "len(a)"
   ]
  },
  {
   "cell_type": "code",
   "execution_count": 332,
   "metadata": {},
   "outputs": [
    {
     "data": {
      "text/plain": [
       "<matplotlib.image.AxesImage at 0x25c9e104a58>"
      ]
     },
     "execution_count": 332,
     "metadata": {},
     "output_type": "execute_result"
    },
    {
     "data": {
      "image/png": "[encoded data removed]",
      "text/plain": [
       "<Figure size 432x288 with 1 Axes>"
      ]
     },
     "metadata": {
      "needs_background": "light"
     },
     "output_type": "display_data"
    }
   ],
   "source": [
    "c = img.copy()\n",
    "gen = cv2.drawContours(c, [a[2], a[8]], -1, (0,255,0), -1)\n",
    "plt.imshow(gen)"
   ]
  },
  {
   "cell_type": "code",
   "execution_count": null,
   "metadata": {},
   "outputs": [],
   "source": []
  },
  {
   "cell_type": "code",
   "execution_count": null,
   "metadata": {},
   "outputs": [],
   "source": []
  }
 ],
 "metadata": {
  "kernelspec": {
   "display_name": "Python 3",
   "language": "python",
   "name": "python3"
  },
  "language_info": {
   "codemirror_mode": {
    "name": "ipython",
    "version": 3
   },
   "file_extension": ".py",
   "mimetype": "text/x-python",
   "name": "python",
   "nbconvert_exporter": "python",
   "pygments_lexer": "ipython3",
   "version": "3.6.8"
  }
 },
 "nbformat": 4,
 "nbformat_minor": 2
}
