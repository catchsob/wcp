{
 "cells": [
  {
   "cell_type": "markdown",
   "metadata": {},
   "source": [
    "# Image Generator for Training"
   ]
  },
  {
   "cell_type": "code",
   "execution_count": 7,
   "metadata": {},
   "outputs": [],
   "source": [
    "import cv2\n",
    "import os, random\n",
    "import numpy as np\n",
    "from parameter import letters\n",
    "from glob import glob\n",
    "import sys\n",
    "sys.path.append('../plategen')\n",
    "from plategen import TaiwanLicensePlateGenerator #enos"
   ]
  },
  {
   "cell_type": "code",
   "execution_count": 8,
   "metadata": {},
   "outputs": [],
   "source": [
    "# # Input data generator\n",
    "def labels_to_text(labels):     # letters의 index -> text (string)\n",
    "    return ''.join(list(map(lambda x: letters[int(x)], labels)))\n",
    "\n",
    "def text_to_labels(text):      # text를 letters 배열에서의 인덱스 값으로 변환\n",
    "    return list(map(lambda x: letters.index(x), text))"
   ]
  },
  {
   "cell_type": "code",
   "execution_count": 1,
   "metadata": {},
   "outputs": [],
   "source": [
    "class ImageGenerator:\n",
    "    \n",
    "    img_dirpath = None\n",
    "    img_dir = None\n",
    "    n = -1\n",
    "    indexes = None\n",
    "    cur_index = -1\n",
    "    imgs = None\n",
    "    texts = None\n",
    "    g = None #TaiwanLicensePlateGenerator\n",
    "    \n",
    "    def __init__(self, img_dirpath, img_w, img_h, batch_size, downsample_factor,\n",
    "                 char_path=None, sep_file=None, border_file=None, max_text_len=8,):\n",
    "        self.img_h = img_h\n",
    "        self.img_w = img_w\n",
    "        self.batch_size = batch_size\n",
    "        self.max_text_len = max_text_len\n",
    "        self.downsample_factor = downsample_factor\n",
    "        self.img_dirpath = img_dirpath                  # image dir path\n",
    "        if img_dirpath is None:\n",
    "            self.g = TaiwanLicensePlateGenerator(char_path, sep_file, border_file, False)\n",
    "        else:\n",
    "            self.img_dir = [f for f in os.listdir(self.img_dirpath) if os.path.isfile(self.img_dirpath+f)]\n",
    "            self.n = len(self.img_dir)                      # number of images\n",
    "            self.indexes = list(range(self.n))\n",
    "            self.cur_index = 0\n",
    "            self.imgs = np.zeros((self.n, self.img_h, self.img_w))\n",
    "            self.texts = []\n",
    "\n",
    "    ## samples의 이미지 목록들을 opencv로 읽어 저장하기, texts에는 label 저장\n",
    "    def build_data(self):\n",
    "        print(self.n, \" Image Loading start...\")\n",
    "        for i, img_file in enumerate(self.img_dir):\n",
    "            img = cv2.imread(self.img_dirpath + img_file, cv2.IMREAD_GRAYSCALE)\n",
    "            img = cv2.resize(img, (self.img_w, self.img_h))\n",
    "            img = img.astype(np.float32)\n",
    "            img = (img / 255.0) * 2.0 - 1.0\n",
    "\n",
    "            self.imgs[i, :, :] = img\n",
    "            self.texts.append(img_file[0:-4])\n",
    "        print(len(self.texts) == self.n)\n",
    "        print(self.n, \" Image Loading finish...\")\n",
    "\n",
    "    def _next_sample(self):      ## index max -> 0 으로 만들기\n",
    "        if self.img_dirpath is not None:\n",
    "            self.cur_index += 1\n",
    "            if self.cur_index >= self.n:\n",
    "                self.cur_index = 0\n",
    "                random.shuffle(self.indexes)\n",
    "            return self.imgs[self.indexes[self.cur_index]], self.texts[self.indexes[self.cur_index]]\n",
    "        \n",
    "        plates, labels = self.g.gen_plate(1, 'perspective')\n",
    "        plate = cv2.cvtColor(plates[0], cv2.COLOR_BGR2GRAY)\n",
    "        plate = cv2.resize(plate, (self.img_w, self.img_h))\n",
    "        plate = (plate / 255.0) * 2.0 - 1.0\n",
    "        \n",
    "        return plate, labels[0]\n",
    "    \n",
    "    def next_batch(self):       ## batch size만큼 가져오기\n",
    "        while True:\n",
    "            X_data = np.ones([self.batch_size, self.img_w, self.img_h, 1])     # (bs, 128, 64, 1)\n",
    "            Y_data = np.ones([self.batch_size, self.max_text_len])             # (bs, 9)\n",
    "            input_length = np.ones((self.batch_size, 1)) * (self.img_w // self.downsample_factor - 2)  # (bs, 1)\n",
    "            label_length = np.zeros((self.batch_size, 1))           # (bs, 1)\n",
    "\n",
    "            for i in range(self.batch_size):\n",
    "                img, text = self._next_sample()\n",
    "                img = img.T\n",
    "                img = np.expand_dims(img, -1)\n",
    "                X_data[i] = img\n",
    "                Y_data[i] = text_to_labels(text)\n",
    "                label_length[i] = len(text)\n",
    "\n",
    "            # dict 형태로 복사\n",
    "            inputs = {\n",
    "                'the_input': X_data,  # (bs, 128, 64, 1)\n",
    "                'the_labels': Y_data,  # (bs, 8)\n",
    "                'input_length': input_length,  # (bs, 1) -> 모든 원소 value = 30\n",
    "                'label_length': label_length  # (bs, 1) -> 모든 원소 value = 8\n",
    "            }\n",
    "            outputs = {'ctc': np.zeros([self.batch_size])}   # (bs, 1) -> 모든 원소 0\n",
    "            yield (inputs, outputs)"
   ]
  },
  {
   "cell_type": "code",
   "execution_count": null,
   "metadata": {},
   "outputs": [],
   "source": []
  }
 ],
 "metadata": {
  "kernelspec": {
   "display_name": "Python 3",
   "language": "python",
   "name": "python3"
  },
  "language_info": {
   "codemirror_mode": {
    "name": "ipython",
    "version": 3
   },
   "file_extension": ".py",
   "mimetype": "text/x-python",
   "name": "python",
   "nbconvert_exporter": "python",
   "pygments_lexer": "ipython3",
   "version": "3.6.8"
  }
 },
 "nbformat": 4,
 "nbformat_minor": 2
}
